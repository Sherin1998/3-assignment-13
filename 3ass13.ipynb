{
 "cells": [
  {
   "cell_type": "code",
   "execution_count": 3,
   "metadata": {},
   "outputs": [
    {
     "name": "stdout",
     "output_type": "stream",
     "text": [
      "No of values3\n",
      "enter 0 :100\n",
      "enter 1 :150\n",
      "enter 2 :180\n",
      "[18, 22, 24]\n"
     ]
    }
   ],
   "source": [
    "#1\n",
    "import math \n",
    "c=50\n",
    "h=30\n",
    "n=int(input('No of values'))\n",
    "d=[]\n",
    "f=[]\n",
    "for i in range(n):\n",
    "    a=int(input('enter {} :'.format(i)))\n",
    "    d.append(a)\n",
    "\n",
    "for i in d:\n",
    "    x=(2*c*i)/h\n",
    "    q=int(math.sqrt(x))\n",
    "    f.append(q)\n",
    "print(f)"
   ]
  },
  {
   "cell_type": "code",
   "execution_count": 9,
   "metadata": {},
   "outputs": [
    {
     "name": "stdout",
     "output_type": "stream",
     "text": [
      "Enter row no3\n",
      "Enter column no3\n",
      "[[0, 0, 0], [0, 1, 2], [0, 2, 4]]\n"
     ]
    }
   ],
   "source": [
    "#2\n",
    "r=int(input('Enter row no'))\n",
    "c=int(input('Enter column no'))\n",
    "array = [[x*y for i in range(r)] for j in range(c)]\n",
    "print(array)\n"
   ]
  },
  {
   "cell_type": "code",
   "execution_count": 16,
   "metadata": {},
   "outputs": [
    {
     "name": "stdout",
     "output_type": "stream",
     "text": [
      "enter stringhello,world,me,aby\n",
      "aby,hello,me,world\n"
     ]
    }
   ],
   "source": [
    "#3\n",
    "x=input('enter string')\n",
    "q=x.split(',')\n",
    "q.sort()\n",
    "print(','.join(q))\n",
    "\n",
    "\n",
    "    \n"
   ]
  },
  {
   "cell_type": "code",
   "execution_count": 17,
   "metadata": {},
   "outputs": [
    {
     "name": "stdout",
     "output_type": "stream",
     "text": [
      "enter stringhello cars every cars\n",
      "cars every hello\n"
     ]
    }
   ],
   "source": [
    "#4\n",
    "x=input('enter string')\n",
    "l=x.split( )\n",
    "l.sort()\n",
    "p=[]\n",
    "for i in l:\n",
    "    if(i not in p):\n",
    "        p.append(i)\n",
    "print(' '.join(p))\n",
    "\n",
    "\n"
   ]
  },
  {
   "cell_type": "code",
   "execution_count": 23,
   "metadata": {},
   "outputs": [
    {
     "name": "stdout",
     "output_type": "stream",
     "text": [
      "Enter string  :hsj;ioh;io2242\n",
      "alphabets : 8\n",
      "Numbers : 4\n"
     ]
    }
   ],
   "source": [
    "#5\n",
    "def check(x):\n",
    "    count=digit=0\n",
    "    for i in x:\n",
    "        if i.isalpha():\n",
    "            count+=1\n",
    "        elif i.isdigit():\n",
    "            digit+=1\n",
    "    return count,digit\n",
    "\n",
    "x=input('Enter string  :')\n",
    "count,digit=check(x)\n",
    "print('alphabets :',count)\n",
    "print('Numbers :',digit)\n"
   ]
  },
  {
   "cell_type": "code",
   "execution_count": 12,
   "metadata": {},
   "outputs": [
    {
     "name": "stdout",
     "output_type": "stream",
     "text": [
      "enter pd 0   :ABd1234@1\n",
      "enter pd 1   :aF1# \n",
      "enter pd 2   :2w3E*\n",
      "enter pd 3   : 2We3345\n",
      "ABd1234@1\n"
     ]
    }
   ],
   "source": [
    "#6\n",
    "import re\n",
    "\n",
    "def check(l):\n",
    "    result = []\n",
    "    ref=0\n",
    "    for i in l:\n",
    "        while(True):\n",
    "            if(len(i)<6 or len(i)>12):\n",
    "                ref=-1\n",
    "                break\n",
    "            elif not re.search('[a-z]',i):\n",
    "                ref=-1\n",
    "                break\n",
    "            elif not re.search('[A-Z]',i):\n",
    "                ref=-1\n",
    "                break\n",
    "            elif not re.search('[0-9]',i):\n",
    "                ref=-1\n",
    "                break\n",
    "            elif not re.search('[$#@]',i):\n",
    "                ref=-1\n",
    "                break\n",
    "            else:\n",
    "                ref=0\n",
    "                break\n",
    "        if(ref==-1):\n",
    "            a = \"invalid one\"\n",
    "        elif(ref==0):\n",
    "            result.append(i)\n",
    "    return result\n",
    "\n",
    "              \n",
    "l=[]\n",
    "for i in range(4):\n",
    "    l.append(input('enter pd {}   :'.format(i)))\n",
    "answer = check(l)\n",
    "print(', '.join(answer))\n",
    "\n",
    " "
   ]
  },
  {
   "cell_type": "code",
   "execution_count": null,
   "metadata": {},
   "outputs": [],
   "source": []
  }
 ],
 "metadata": {
  "kernelspec": {
   "display_name": "Python 3",
   "language": "python",
   "name": "python3"
  },
  "language_info": {
   "codemirror_mode": {
    "name": "ipython",
    "version": 3
   },
   "file_extension": ".py",
   "mimetype": "text/x-python",
   "name": "python",
   "nbconvert_exporter": "python",
   "pygments_lexer": "ipython3",
   "version": "3.8.3"
  }
 },
 "nbformat": 4,
 "nbformat_minor": 4
}
